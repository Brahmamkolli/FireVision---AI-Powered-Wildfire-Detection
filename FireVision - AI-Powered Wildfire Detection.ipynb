{
 "cells": [
  {
   "cell_type": "markdown",
   "id": "ede89444-a4ed-4168-8df8-cc119a867a32",
   "metadata": {},
   "source": [
    "# 1.Business Problem Understanding"
   ]
  },
  {
   "cell_type": "markdown",
   "id": "292b71a1-d742-4493-af97-d8c132ab1939",
   "metadata": {},
   "source": [
    "**Context:**\n",
    "-  Wildfires cause massive destruction globally, leading to loss of human lives, wildlife, forests, property, and billions in economic damage every year. Manual monitoring (watchtowers, satellites, or ground patrols) is expensive, time-consuming, and often too slow.\n",
    "\n",
    "**Problem:**\n",
    "-  Detecting fire early is critical to prevent small sparks from turning into uncontrollable wildfires. Traditional methods either fail in early detection or require costly infrastructure.\n",
    "\n",
    "**Business Need:**\n",
    "- Governments, forestry departments, and disaster management agencies need automated wildfire detection systems that can analyze surveillance cameras, drone footage, or satellite images in real time.-\n",
    "-  Insurance companies and environmental organizations can also benefit from risk monitoring using AI-based detection."
   ]
  },
  {
   "cell_type": "markdown",
   "id": "1a899244-59e1-48a0-a7ca-75487a816242",
   "metadata": {},
   "source": [
    "# 2.Data Exploration & Cleaning"
   ]
  },
  {
   "cell_type": "code",
   "execution_count": 1,
   "id": "b5b06fc3-6116-4463-96b8-5157ae8e1f6f",
   "metadata": {},
   "outputs": [],
   "source": [
    "import tensorflow as tf\n",
    "import keras\n",
    "import numpy as np\n",
    "import pandas as pd"
   ]
  },
  {
   "cell_type": "code",
   "execution_count": 2,
   "id": "41127767-28b5-4301-89ac-d7aaf53f8a34",
   "metadata": {},
   "outputs": [],
   "source": [
    "from tensorflow.keras.preprocessing.image import ImageDataGenerator"
   ]
  },
  {
   "cell_type": "code",
   "execution_count": 38,
   "id": "1b63ace9-2391-4b6b-b7bd-fc25f74bf06c",
   "metadata": {},
   "outputs": [
    {
     "name": "stdout",
     "output_type": "stream",
     "text": [
      " Moving bad file: C:\\Users\\kolli\\Downloads\\my own project datasets\\forest-fired data\\val\\fire\\F_592.jpg\n",
      " Moving bad file: C:\\Users\\kolli\\Downloads\\my own project datasets\\forest-fired data\\val\\fire\\F_618.jpg\n",
      " Moving bad file: C:\\Users\\kolli\\Downloads\\my own project datasets\\forest-fired data\\val\\fire\\F_625.jpg\n",
      " Moving bad file: C:\\Users\\kolli\\Downloads\\my own project datasets\\forest-fired data\\val\\fire\\F_627.jpg\n",
      " Moving bad file: C:\\Users\\kolli\\Downloads\\my own project datasets\\forest-fired data\\val\\fire\\F_640.jpg\n",
      " Moving bad file: C:\\Users\\kolli\\Downloads\\my own project datasets\\forest-fired data\\val\\fire\\F_643.jpg\n",
      " Moving bad file: C:\\Users\\kolli\\Downloads\\my own project datasets\\forest-fired data\\val\\fire\\F_646.jpg\n",
      " Moving bad file: C:\\Users\\kolli\\Downloads\\my own project datasets\\forest-fired data\\val\\fire\\F_653.jpg\n",
      " Moving bad file: C:\\Users\\kolli\\Downloads\\my own project datasets\\forest-fired data\\val\\fire\\F_662.jpg\n",
      " Moving bad file: C:\\Users\\kolli\\Downloads\\my own project datasets\\forest-fired data\\val\\fire\\F_673.jpg\n",
      " Moving bad file: C:\\Users\\kolli\\Downloads\\my own project datasets\\forest-fired data\\val\\fire\\F_68.jpg\n",
      " Moving bad file: C:\\Users\\kolli\\Downloads\\my own project datasets\\forest-fired data\\val\\fire\\F_680.jpg\n",
      " Moving bad file: C:\\Users\\kolli\\Downloads\\my own project datasets\\forest-fired data\\val\\fire\\F_692.jpg\n",
      " Moving bad file: C:\\Users\\kolli\\Downloads\\my own project datasets\\forest-fired data\\val\\fire\\F_693.jpg\n",
      " Moving bad file: C:\\Users\\kolli\\Downloads\\my own project datasets\\forest-fired data\\val\\fire\\F_699.jpg\n",
      " Moving bad file: C:\\Users\\kolli\\Downloads\\my own project datasets\\forest-fired data\\val\\fire\\F_70.jpg\n",
      " Moving bad file: C:\\Users\\kolli\\Downloads\\my own project datasets\\forest-fired data\\val\\fire\\F_712.jpg\n",
      " Moving bad file: C:\\Users\\kolli\\Downloads\\my own project datasets\\forest-fired data\\val\\fire\\F_725.jpg\n",
      " Moving bad file: C:\\Users\\kolli\\Downloads\\my own project datasets\\forest-fired data\\val\\fire\\F_739.jpg\n",
      " Moving bad file: C:\\Users\\kolli\\Downloads\\my own project datasets\\forest-fired data\\val\\fire\\F_741.jpg\n",
      " Moving bad file: C:\\Users\\kolli\\Downloads\\my own project datasets\\forest-fired data\\val\\fire\\F_742.jpg\n",
      " Moving bad file: C:\\Users\\kolli\\Downloads\\my own project datasets\\forest-fired data\\val\\fire\\F_746.jpg\n",
      " Moving bad file: C:\\Users\\kolli\\Downloads\\my own project datasets\\forest-fired data\\val\\fire\\F_747.jpg\n",
      " Moving bad file: C:\\Users\\kolli\\Downloads\\my own project datasets\\forest-fired data\\val\\fire\\F_773.jpg\n",
      " Moving bad file: C:\\Users\\kolli\\Downloads\\my own project datasets\\forest-fired data\\val\\fire\\F_778.jpg\n",
      " Moving bad file: C:\\Users\\kolli\\Downloads\\my own project datasets\\forest-fired data\\val\\fire\\F_797.jpg\n",
      " Moving bad file: C:\\Users\\kolli\\Downloads\\my own project datasets\\forest-fired data\\val\\fire\\F_809.jpg\n",
      " Moving bad file: C:\\Users\\kolli\\Downloads\\my own project datasets\\forest-fired data\\val\\fire\\F_84.jpg\n",
      " Moving bad file: C:\\Users\\kolli\\Downloads\\my own project datasets\\forest-fired data\\val\\fire\\F_846.jpg\n",
      " Moving bad file: C:\\Users\\kolli\\Downloads\\my own project datasets\\forest-fired data\\val\\fire\\F_856.jpg\n",
      " Moving bad file: C:\\Users\\kolli\\Downloads\\my own project datasets\\forest-fired data\\val\\fire\\F_860.jpg\n",
      " Moving bad file: C:\\Users\\kolli\\Downloads\\my own project datasets\\forest-fired data\\val\\fire\\F_863.jpg\n",
      " Moving bad file: C:\\Users\\kolli\\Downloads\\my own project datasets\\forest-fired data\\val\\fire\\F_876.jpg\n",
      " Moving bad file: C:\\Users\\kolli\\Downloads\\my own project datasets\\forest-fired data\\val\\fire\\F_877.jpg\n",
      " Moving bad file: C:\\Users\\kolli\\Downloads\\my own project datasets\\forest-fired data\\val\\fire\\F_885.jpg\n",
      " Moving bad file: C:\\Users\\kolli\\Downloads\\my own project datasets\\forest-fired data\\val\\fire\\F_887.jpg\n",
      " Moving bad file: C:\\Users\\kolli\\Downloads\\my own project datasets\\forest-fired data\\val\\fire\\F_889.jpg\n",
      " Moving bad file: C:\\Users\\kolli\\Downloads\\my own project datasets\\forest-fired data\\val\\fire\\F_895.jpg\n",
      " Moving bad file: C:\\Users\\kolli\\Downloads\\my own project datasets\\forest-fired data\\val\\fire\\F_901.jpg\n",
      " Moving bad file: C:\\Users\\kolli\\Downloads\\my own project datasets\\forest-fired data\\val\\fire\\F_927.jpg\n",
      " Moving bad file: C:\\Users\\kolli\\Downloads\\my own project datasets\\forest-fired data\\val\\fire\\F_933.jpg\n"
     ]
    }
   ],
   "source": [
    "import os, shutil\n",
    "from PIL import Image\n",
    "\n",
    "def move_bad_images(directory, bad_dir=\"bad_files\"):\n",
    "    if not os.path.exists(bad_dir):\n",
    "        os.makedirs(bad_dir)\n",
    "    for root, _, files in os.walk(directory):\n",
    "        for file in files:\n",
    "            file_path = os.path.join(root, file)\n",
    "            try:\n",
    "                img = Image.open(file_path)\n",
    "                img.verify()\n",
    "            except (IOError, SyntaxError):\n",
    "                print(\" Moving bad file:\", file_path)\n",
    "                dest = os.path.join(bad_dir, os.path.basename(file_path))\n",
    "                shutil.move(file_path, dest)\n",
    "\n",
    "# Run for all your folders\n",
    "move_bad_images(r\"C:\\Users\\kolli\\Downloads\\my own project datasets\\forest-fired data\\train\")\n",
    "move_bad_images(r\"C:\\Users\\kolli\\Downloads\\my own project datasets\\forest-fired data\\val\")\n",
    "move_bad_images(r\"C:\\Users\\kolli\\Downloads\\my own project datasets\\forest-fired data\\test\")\n"
   ]
  },
  {
   "cell_type": "code",
   "execution_count": 39,
   "id": "8ac78dc1-cf80-42cd-823f-bfb1d06027db",
   "metadata": {},
   "outputs": [],
   "source": [
    "train_datagen = ImageDataGenerator(rescale = 1/255,\n",
    "                                   shear_range = 0.2,\n",
    "                                   zoom_range = 0.2)"
   ]
  },
  {
   "cell_type": "code",
   "execution_count": 40,
   "id": "6d7040a1-1bcf-4c97-ac8a-3b4a6ddfcaeb",
   "metadata": {},
   "outputs": [
    {
     "name": "stdout",
     "output_type": "stream",
     "text": [
      "Found 4350 images belonging to 2 classes.\n"
     ]
    }
   ],
   "source": [
    "training_set = train_datagen.flow_from_directory(r'C:\\Users\\kolli\\Downloads\\my own project datasets\\forest-fired data\\train',\n",
    "                                                target_size = (64, 64),\n",
    "                                                 class_mode = 'binary')"
   ]
  },
  {
   "cell_type": "code",
   "execution_count": 41,
   "id": "0ce28b7b-8d26-47a1-805f-a03999f6ef16",
   "metadata": {},
   "outputs": [
    {
     "data": {
      "text/plain": [
       "{'fire': 0, 'nofire': 1}"
      ]
     },
     "execution_count": 41,
     "metadata": {},
     "output_type": "execute_result"
    }
   ],
   "source": [
    "training_set.class_indices"
   ]
  },
  {
   "cell_type": "code",
   "execution_count": 42,
   "id": "7f9c88da-178a-4013-a2a7-5a80467f9b5e",
   "metadata": {},
   "outputs": [],
   "source": [
    "validation_test_datagen = ImageDataGenerator(rescale = 1/255)"
   ]
  },
  {
   "cell_type": "code",
   "execution_count": 43,
   "id": "977d160d-8089-4ebf-bf15-8d50b5a2af8d",
   "metadata": {},
   "outputs": [
    {
     "name": "stdout",
     "output_type": "stream",
     "text": [
      "Found 616 images belonging to 2 classes.\n"
     ]
    }
   ],
   "source": [
    "val_set = validation_test_datagen.flow_from_directory(r'C:\\Users\\kolli\\Downloads\\my own project datasets\\forest-fired data\\val',\n",
    "                                                       target_size=(64,64), class_mode='binary')"
   ]
  },
  {
   "cell_type": "code",
   "execution_count": 44,
   "id": "73fe6de0-8139-49fb-af9d-cb41fdd56182",
   "metadata": {},
   "outputs": [],
   "source": [
    "test_datagen = ImageDataGenerator(rescale = 1/255)"
   ]
  },
  {
   "cell_type": "code",
   "execution_count": 45,
   "id": "9f73bdf5-17d9-4669-b3ee-540917da4488",
   "metadata": {},
   "outputs": [
    {
     "name": "stdout",
     "output_type": "stream",
     "text": [
      "Found 1241 images belonging to 2 classes.\n"
     ]
    }
   ],
   "source": [
    "test_set = test_datagen.flow_from_directory(r'C:\\Users\\kolli\\Downloads\\my own project datasets\\forest-fired data\\test',\n",
    "                                            target_size = (64,64),\n",
    "                                            class_mode = 'binary')"
   ]
  },
  {
   "cell_type": "markdown",
   "id": "dc7bcc05-7739-498b-be65-1bb1ac663c91",
   "metadata": {},
   "source": [
    "# Modelling - Convolution Neural Network\n",
    "- **Installing the CNN**"
   ]
  },
  {
   "cell_type": "code",
   "execution_count": 46,
   "id": "09de86d6-a7c0-45a9-bb72-2670b0747460",
   "metadata": {},
   "outputs": [],
   "source": [
    "from keras.models import Sequential\n",
    "classifier = Sequential()"
   ]
  },
  {
   "cell_type": "markdown",
   "id": "7f0eb222-9fa5-4a56-ad04-79127548b87c",
   "metadata": {},
   "source": [
    "**step 1 - Convolution**"
   ]
  },
  {
   "cell_type": "code",
   "execution_count": 47,
   "id": "b7e2cf29-c2e1-400a-9a02-c69acb67632a",
   "metadata": {},
   "outputs": [],
   "source": [
    "from keras.layers import Conv2D\n",
    "# First Convolutional Layer with input shape\n",
    "classifier.add(Conv2D(filters=32, kernel_size=(3,3), activation='relu', input_shape=(64, 64, 3)))"
   ]
  },
  {
   "cell_type": "markdown",
   "id": "64baa3c0-c3ed-4345-a94b-573027e0481a",
   "metadata": {},
   "source": [
    "**step 2 - Max Pooling**"
   ]
  },
  {
   "cell_type": "code",
   "execution_count": 48,
   "id": "9d80ef1d-28fb-41e5-a194-9a824cd3bab3",
   "metadata": {},
   "outputs": [],
   "source": [
    "from keras.layers import MaxPooling2D\n",
    "classifier.add(MaxPooling2D(pool_size = 2,strides= 2))"
   ]
  },
  {
   "cell_type": "markdown",
   "id": "e554a518-de1c-4846-9fc0-6d07b88e4ebb",
   "metadata": {},
   "source": [
    "**step 3 - Flattening**"
   ]
  },
  {
   "cell_type": "code",
   "execution_count": 49,
   "id": "189c0873-ed46-43ea-806f-ea8f0cae6974",
   "metadata": {},
   "outputs": [],
   "source": [
    "from keras.layers import Flatten\n",
    "classifier.add(Flatten())"
   ]
  },
  {
   "cell_type": "markdown",
   "id": "6481fe73-dc9f-49fa-b66c-ec13e65c793d",
   "metadata": {},
   "source": [
    "**step 4 - Full Connection**"
   ]
  },
  {
   "cell_type": "code",
   "execution_count": 50,
   "id": "9c66c56b-9320-409b-b188-903e66ff180c",
   "metadata": {},
   "outputs": [],
   "source": [
    "from keras.layers import Dense\n",
    "\n",
    "#hidden layer with 128 neurons\n",
    "classifier.add(Dense(units=128, activation='relu'))\n",
    "\n",
    "#output layer\n",
    "classifier.add(Dense(units=1, activation='sigmoid'))  \n"
   ]
  },
  {
   "cell_type": "markdown",
   "id": "459be629-6dd6-455a-acba-144fb88a5078",
   "metadata": {},
   "source": [
    "**Training the Model**"
   ]
  },
  {
   "cell_type": "code",
   "execution_count": 51,
   "id": "9276f5e4-1fae-420b-bac1-ef79efcc863b",
   "metadata": {},
   "outputs": [],
   "source": [
    "classifier.compile(optimizer=\"adam\", loss=\"binary_crossentropy\", metrics=[\"accuracy\"])"
   ]
  },
  {
   "cell_type": "code",
   "execution_count": 52,
   "id": "7a6fd566-c5cf-42f9-838d-2657e9266139",
   "metadata": {},
   "outputs": [
    {
     "name": "stdout",
     "output_type": "stream",
     "text": [
      "Epoch 1/50\n",
      "\u001b[1m136/136\u001b[0m \u001b[32m━━━━━━━━━━━━━━━━━━━━\u001b[0m\u001b[37m\u001b[0m \u001b[1m72s\u001b[0m 517ms/step - accuracy: 0.8524 - loss: 0.4420 - val_accuracy: 0.8831 - val_loss: 0.3768\n",
      "Epoch 2/50\n",
      "\u001b[1m136/136\u001b[0m \u001b[32m━━━━━━━━━━━━━━━━━━━━\u001b[0m\u001b[37m\u001b[0m \u001b[1m65s\u001b[0m 480ms/step - accuracy: 0.9161 - loss: 0.2058 - val_accuracy: 0.8831 - val_loss: 0.4381\n",
      "Epoch 3/50\n",
      "\u001b[1m136/136\u001b[0m \u001b[32m━━━━━━━━━━━━━━━━━━━━\u001b[0m\u001b[37m\u001b[0m \u001b[1m65s\u001b[0m 476ms/step - accuracy: 0.9280 - loss: 0.1775 - val_accuracy: 0.9156 - val_loss: 0.3224\n",
      "Epoch 4/50\n",
      "\u001b[1m136/136\u001b[0m \u001b[32m━━━━━━━━━━━━━━━━━━━━\u001b[0m\u001b[37m\u001b[0m \u001b[1m67s\u001b[0m 491ms/step - accuracy: 0.9310 - loss: 0.1618 - val_accuracy: 0.9172 - val_loss: 0.2819\n",
      "Epoch 5/50\n",
      "\u001b[1m136/136\u001b[0m \u001b[32m━━━━━━━━━━━━━━━━━━━━\u001b[0m\u001b[37m\u001b[0m \u001b[1m67s\u001b[0m 489ms/step - accuracy: 0.9329 - loss: 0.1607 - val_accuracy: 0.9123 - val_loss: 0.2885\n",
      "Epoch 6/50\n",
      "\u001b[1m136/136\u001b[0m \u001b[32m━━━━━━━━━━━━━━━━━━━━\u001b[0m\u001b[37m\u001b[0m \u001b[1m67s\u001b[0m 496ms/step - accuracy: 0.9483 - loss: 0.1309 - val_accuracy: 0.9156 - val_loss: 0.4093\n",
      "Epoch 7/50\n",
      "\u001b[1m136/136\u001b[0m \u001b[32m━━━━━━━━━━━━━━━━━━━━\u001b[0m\u001b[37m\u001b[0m \u001b[1m63s\u001b[0m 466ms/step - accuracy: 0.9513 - loss: 0.1213 - val_accuracy: 0.9140 - val_loss: 0.3374\n",
      "Epoch 8/50\n",
      "\u001b[1m136/136\u001b[0m \u001b[32m━━━━━━━━━━━━━━━━━━━━\u001b[0m\u001b[37m\u001b[0m \u001b[1m65s\u001b[0m 478ms/step - accuracy: 0.9478 - loss: 0.1259 - val_accuracy: 0.9286 - val_loss: 0.3292\n",
      "Epoch 9/50\n",
      "\u001b[1m136/136\u001b[0m \u001b[32m━━━━━━━━━━━━━━━━━━━━\u001b[0m\u001b[37m\u001b[0m \u001b[1m66s\u001b[0m 488ms/step - accuracy: 0.9586 - loss: 0.1006 - val_accuracy: 0.9269 - val_loss: 0.3493\n",
      "Epoch 10/50\n",
      "\u001b[1m136/136\u001b[0m \u001b[32m━━━━━━━━━━━━━━━━━━━━\u001b[0m\u001b[37m\u001b[0m \u001b[1m67s\u001b[0m 496ms/step - accuracy: 0.9653 - loss: 0.0918 - val_accuracy: 0.9156 - val_loss: 0.4773\n",
      "Epoch 11/50\n",
      "\u001b[1m136/136\u001b[0m \u001b[32m━━━━━━━━━━━━━━━━━━━━\u001b[0m\u001b[37m\u001b[0m \u001b[1m69s\u001b[0m 510ms/step - accuracy: 0.9685 - loss: 0.0826 - val_accuracy: 0.9334 - val_loss: 0.3951\n",
      "Epoch 12/50\n",
      "\u001b[1m136/136\u001b[0m \u001b[32m━━━━━━━━━━━━━━━━━━━━\u001b[0m\u001b[37m\u001b[0m \u001b[1m72s\u001b[0m 528ms/step - accuracy: 0.9733 - loss: 0.0710 - val_accuracy: 0.9269 - val_loss: 0.3511\n",
      "Epoch 13/50\n",
      "\u001b[1m136/136\u001b[0m \u001b[32m━━━━━━━━━━━━━━━━━━━━\u001b[0m\u001b[37m\u001b[0m \u001b[1m72s\u001b[0m 529ms/step - accuracy: 0.9749 - loss: 0.0680 - val_accuracy: 0.9286 - val_loss: 0.4880\n",
      "Epoch 14/50\n",
      "\u001b[1m136/136\u001b[0m \u001b[32m━━━━━━━━━━━━━━━━━━━━\u001b[0m\u001b[37m\u001b[0m \u001b[1m67s\u001b[0m 490ms/step - accuracy: 0.9777 - loss: 0.0586 - val_accuracy: 0.9367 - val_loss: 0.3925\n",
      "Epoch 15/50\n",
      "\u001b[1m136/136\u001b[0m \u001b[32m━━━━━━━━━━━━━━━━━━━━\u001b[0m\u001b[37m\u001b[0m \u001b[1m63s\u001b[0m 464ms/step - accuracy: 0.9789 - loss: 0.0585 - val_accuracy: 0.9286 - val_loss: 0.4044\n",
      "Epoch 16/50\n",
      "\u001b[1m136/136\u001b[0m \u001b[32m━━━━━━━━━━━━━━━━━━━━\u001b[0m\u001b[37m\u001b[0m \u001b[1m67s\u001b[0m 491ms/step - accuracy: 0.9802 - loss: 0.0532 - val_accuracy: 0.9367 - val_loss: 0.3869\n",
      "Epoch 17/50\n",
      "\u001b[1m136/136\u001b[0m \u001b[32m━━━━━━━━━━━━━━━━━━━━\u001b[0m\u001b[37m\u001b[0m \u001b[1m66s\u001b[0m 487ms/step - accuracy: 0.9867 - loss: 0.0421 - val_accuracy: 0.9351 - val_loss: 0.4616\n",
      "Epoch 18/50\n",
      "\u001b[1m136/136\u001b[0m \u001b[32m━━━━━━━━━━━━━━━━━━━━\u001b[0m\u001b[37m\u001b[0m \u001b[1m65s\u001b[0m 482ms/step - accuracy: 0.9802 - loss: 0.0531 - val_accuracy: 0.9383 - val_loss: 0.5209\n",
      "Epoch 19/50\n",
      "\u001b[1m136/136\u001b[0m \u001b[32m━━━━━━━━━━━━━━━━━━━━\u001b[0m\u001b[37m\u001b[0m \u001b[1m66s\u001b[0m 487ms/step - accuracy: 0.9846 - loss: 0.0426 - val_accuracy: 0.9416 - val_loss: 0.4300\n",
      "Epoch 20/50\n",
      "\u001b[1m136/136\u001b[0m \u001b[32m━━━━━━━━━━━━━━━━━━━━\u001b[0m\u001b[37m\u001b[0m \u001b[1m62s\u001b[0m 456ms/step - accuracy: 0.9867 - loss: 0.0381 - val_accuracy: 0.9318 - val_loss: 0.6021\n",
      "Epoch 21/50\n",
      "\u001b[1m136/136\u001b[0m \u001b[32m━━━━━━━━━━━━━━━━━━━━\u001b[0m\u001b[37m\u001b[0m \u001b[1m85s\u001b[0m 478ms/step - accuracy: 0.9894 - loss: 0.0321 - val_accuracy: 0.9334 - val_loss: 0.7125\n",
      "Epoch 22/50\n",
      "\u001b[1m136/136\u001b[0m \u001b[32m━━━━━━━━━━━━━━━━━━━━\u001b[0m\u001b[37m\u001b[0m \u001b[1m67s\u001b[0m 492ms/step - accuracy: 0.9892 - loss: 0.0309 - val_accuracy: 0.9237 - val_loss: 0.6321\n",
      "Epoch 23/50\n",
      "\u001b[1m136/136\u001b[0m \u001b[32m━━━━━━━━━━━━━━━━━━━━\u001b[0m\u001b[37m\u001b[0m \u001b[1m66s\u001b[0m 486ms/step - accuracy: 0.9857 - loss: 0.0386 - val_accuracy: 0.9351 - val_loss: 0.6496\n",
      "Epoch 24/50\n",
      "\u001b[1m136/136\u001b[0m \u001b[32m━━━━━━━━━━━━━━━━━━━━\u001b[0m\u001b[37m\u001b[0m \u001b[1m68s\u001b[0m 502ms/step - accuracy: 0.9913 - loss: 0.0285 - val_accuracy: 0.9383 - val_loss: 0.4978\n",
      "Epoch 25/50\n",
      "\u001b[1m136/136\u001b[0m \u001b[32m━━━━━━━━━━━━━━━━━━━━\u001b[0m\u001b[37m\u001b[0m \u001b[1m61s\u001b[0m 447ms/step - accuracy: 0.9814 - loss: 0.0526 - val_accuracy: 0.9302 - val_loss: 0.4696\n",
      "Epoch 26/50\n",
      "\u001b[1m136/136\u001b[0m \u001b[32m━━━━━━━━━━━━━━━━━━━━\u001b[0m\u001b[37m\u001b[0m \u001b[1m61s\u001b[0m 449ms/step - accuracy: 0.9834 - loss: 0.0407 - val_accuracy: 0.9351 - val_loss: 0.6308\n",
      "Epoch 27/50\n",
      "\u001b[1m136/136\u001b[0m \u001b[32m━━━━━━━━━━━━━━━━━━━━\u001b[0m\u001b[37m\u001b[0m \u001b[1m61s\u001b[0m 452ms/step - accuracy: 0.9894 - loss: 0.0296 - val_accuracy: 0.9367 - val_loss: 0.6087\n",
      "Epoch 28/50\n",
      "\u001b[1m136/136\u001b[0m \u001b[32m━━━━━━━━━━━━━━━━━━━━\u001b[0m\u001b[37m\u001b[0m \u001b[1m82s\u001b[0m 448ms/step - accuracy: 0.9940 - loss: 0.0177 - val_accuracy: 0.9367 - val_loss: 0.7382\n",
      "Epoch 29/50\n",
      "\u001b[1m136/136\u001b[0m \u001b[32m━━━━━━━━━━━━━━━━━━━━\u001b[0m\u001b[37m\u001b[0m \u001b[1m64s\u001b[0m 471ms/step - accuracy: 0.9970 - loss: 0.0106 - val_accuracy: 0.9383 - val_loss: 0.5177\n",
      "Epoch 30/50\n",
      "\u001b[1m136/136\u001b[0m \u001b[32m━━━━━━━━━━━━━━━━━━━━\u001b[0m\u001b[37m\u001b[0m \u001b[1m67s\u001b[0m 484ms/step - accuracy: 0.9926 - loss: 0.0193 - val_accuracy: 0.9205 - val_loss: 0.8708\n",
      "Epoch 31/50\n",
      "\u001b[1m136/136\u001b[0m \u001b[32m━━━━━━━━━━━━━━━━━━━━\u001b[0m\u001b[37m\u001b[0m \u001b[1m64s\u001b[0m 468ms/step - accuracy: 0.9920 - loss: 0.0215 - val_accuracy: 0.9383 - val_loss: 0.5588\n",
      "Epoch 32/50\n",
      "\u001b[1m136/136\u001b[0m \u001b[32m━━━━━━━━━━━━━━━━━━━━\u001b[0m\u001b[37m\u001b[0m \u001b[1m81s\u001b[0m 457ms/step - accuracy: 0.9862 - loss: 0.0417 - val_accuracy: 0.9351 - val_loss: 0.6018\n",
      "Epoch 33/50\n",
      "\u001b[1m136/136\u001b[0m \u001b[32m━━━━━━━━━━━━━━━━━━━━\u001b[0m\u001b[37m\u001b[0m \u001b[1m82s\u001b[0m 462ms/step - accuracy: 0.9952 - loss: 0.0142 - val_accuracy: 0.9383 - val_loss: 0.4855\n",
      "Epoch 34/50\n",
      "\u001b[1m136/136\u001b[0m \u001b[32m━━━━━━━━━━━━━━━━━━━━\u001b[0m\u001b[37m\u001b[0m \u001b[1m82s\u001b[0m 443ms/step - accuracy: 0.9920 - loss: 0.0224 - val_accuracy: 0.9253 - val_loss: 0.7209\n",
      "Epoch 35/50\n",
      "\u001b[1m136/136\u001b[0m \u001b[32m━━━━━━━━━━━━━━━━━━━━\u001b[0m\u001b[37m\u001b[0m \u001b[1m83s\u001b[0m 464ms/step - accuracy: 0.9929 - loss: 0.0204 - val_accuracy: 0.9399 - val_loss: 0.6763\n",
      "Epoch 36/50\n",
      "\u001b[1m136/136\u001b[0m \u001b[32m━━━━━━━━━━━━━━━━━━━━\u001b[0m\u001b[37m\u001b[0m \u001b[1m60s\u001b[0m 444ms/step - accuracy: 0.9952 - loss: 0.0148 - val_accuracy: 0.9399 - val_loss: 0.7306\n",
      "Epoch 37/50\n",
      "\u001b[1m136/136\u001b[0m \u001b[32m━━━━━━━━━━━━━━━━━━━━\u001b[0m\u001b[37m\u001b[0m \u001b[1m60s\u001b[0m 441ms/step - accuracy: 0.9979 - loss: 0.0092 - val_accuracy: 0.9351 - val_loss: 0.4959\n",
      "Epoch 38/50\n",
      "\u001b[1m136/136\u001b[0m \u001b[32m━━━━━━━━━━━━━━━━━━━━\u001b[0m\u001b[37m\u001b[0m \u001b[1m61s\u001b[0m 449ms/step - accuracy: 0.9956 - loss: 0.0143 - val_accuracy: 0.9464 - val_loss: 0.5119\n",
      "Epoch 39/50\n",
      "\u001b[1m136/136\u001b[0m \u001b[32m━━━━━━━━━━━━━━━━━━━━\u001b[0m\u001b[37m\u001b[0m \u001b[1m81s\u001b[0m 443ms/step - accuracy: 0.9956 - loss: 0.0136 - val_accuracy: 0.9383 - val_loss: 0.7093\n",
      "Epoch 40/50\n",
      "\u001b[1m136/136\u001b[0m \u001b[32m━━━━━━━━━━━━━━━━━━━━\u001b[0m\u001b[37m\u001b[0m \u001b[1m60s\u001b[0m 439ms/step - accuracy: 0.9961 - loss: 0.0101 - val_accuracy: 0.9464 - val_loss: 0.5932\n",
      "Epoch 41/50\n",
      "\u001b[1m136/136\u001b[0m \u001b[32m━━━━━━━━━━━━━━━━━━━━\u001b[0m\u001b[37m\u001b[0m \u001b[1m61s\u001b[0m 448ms/step - accuracy: 0.9984 - loss: 0.0088 - val_accuracy: 0.9367 - val_loss: 0.6716\n",
      "Epoch 42/50\n",
      "\u001b[1m136/136\u001b[0m \u001b[32m━━━━━━━━━━━━━━━━━━━━\u001b[0m\u001b[37m\u001b[0m \u001b[1m63s\u001b[0m 461ms/step - accuracy: 0.9968 - loss: 0.0115 - val_accuracy: 0.9383 - val_loss: 0.7585\n",
      "Epoch 43/50\n",
      "\u001b[1m136/136\u001b[0m \u001b[32m━━━━━━━━━━━━━━━━━━━━\u001b[0m\u001b[37m\u001b[0m \u001b[1m82s\u001b[0m 461ms/step - accuracy: 0.9952 - loss: 0.0124 - val_accuracy: 0.9351 - val_loss: 0.7895\n",
      "Epoch 44/50\n",
      "\u001b[1m136/136\u001b[0m \u001b[32m━━━━━━━━━━━━━━━━━━━━\u001b[0m\u001b[37m\u001b[0m \u001b[1m63s\u001b[0m 463ms/step - accuracy: 0.9883 - loss: 0.0379 - val_accuracy: 0.9318 - val_loss: 0.5934\n",
      "Epoch 45/50\n",
      "\u001b[1m136/136\u001b[0m \u001b[32m━━━━━━━━━━━━━━━━━━━━\u001b[0m\u001b[37m\u001b[0m \u001b[1m142s\u001b[0m 1s/step - accuracy: 0.9966 - loss: 0.0108 - val_accuracy: 0.9237 - val_loss: 1.0219\n",
      "Epoch 46/50\n",
      "\u001b[1m136/136\u001b[0m \u001b[32m━━━━━━━━━━━━━━━━━━━━\u001b[0m\u001b[37m\u001b[0m \u001b[1m61s\u001b[0m 451ms/step - accuracy: 0.9894 - loss: 0.0294 - val_accuracy: 0.9367 - val_loss: 0.8608\n",
      "Epoch 47/50\n",
      "\u001b[1m136/136\u001b[0m \u001b[32m━━━━━━━━━━━━━━━━━━━━\u001b[0m\u001b[37m\u001b[0m \u001b[1m62s\u001b[0m 451ms/step - accuracy: 0.9977 - loss: 0.0088 - val_accuracy: 0.9416 - val_loss: 0.7708\n",
      "Epoch 48/50\n",
      "\u001b[1m136/136\u001b[0m \u001b[32m━━━━━━━━━━━━━━━━━━━━\u001b[0m\u001b[37m\u001b[0m \u001b[1m60s\u001b[0m 445ms/step - accuracy: 0.9975 - loss: 0.0091 - val_accuracy: 0.9432 - val_loss: 0.6356\n",
      "Epoch 49/50\n",
      "\u001b[1m136/136\u001b[0m \u001b[32m━━━━━━━━━━━━━━━━━━━━\u001b[0m\u001b[37m\u001b[0m \u001b[1m62s\u001b[0m 457ms/step - accuracy: 0.9986 - loss: 0.0049 - val_accuracy: 0.9416 - val_loss: 0.9712\n",
      "Epoch 50/50\n",
      "\u001b[1m136/136\u001b[0m \u001b[32m━━━━━━━━━━━━━━━━━━━━\u001b[0m\u001b[37m\u001b[0m \u001b[1m61s\u001b[0m 447ms/step - accuracy: 0.9975 - loss: 0.0090 - val_accuracy: 0.9448 - val_loss: 0.8026\n"
     ]
    },
    {
     "data": {
      "text/plain": [
       "<keras.src.callbacks.history.History at 0x1b0bd2f8050>"
      ]
     },
     "execution_count": 52,
     "metadata": {},
     "output_type": "execute_result"
    }
   ],
   "source": [
    "# Train the model using training set, validate on validation set\n",
    "classifier.fit(x = training_set, validation_data=val_set, epochs=50)"
   ]
  },
  {
   "cell_type": "markdown",
   "id": "a6ca9608-12fe-42de-b40c-27391f9ebffd",
   "metadata": {},
   "source": [
    "# Evaluation"
   ]
  },
  {
   "cell_type": "code",
   "execution_count": 54,
   "id": "e8a23f38-ea0d-458c-b4c3-8c67a9411e11",
   "metadata": {},
   "outputs": [
    {
     "name": "stdout",
     "output_type": "stream",
     "text": [
      "Found 1241 images belonging to 2 classes.\n"
     ]
    }
   ],
   "source": [
    "from tensorflow.keras.preprocessing.image import ImageDataGenerator\n",
    "\n",
    "# Use same preprocessing as training\n",
    "test_datagen = ImageDataGenerator(rescale=1./255)\n",
    "\n",
    "test_set = test_datagen.flow_from_directory(\n",
    "    \"C:/Users/kolli/Downloads/my own project datasets/forest-fired data/test\",\n",
    "    target_size=(64, 64),\n",
    "    batch_size=32,\n",
    "    class_mode='binary',\n",
    "    shuffle=False   # Important for evaluation\n",
    ")"
   ]
  },
  {
   "cell_type": "markdown",
   "id": "eb3d0cba-30e1-45a4-b963-a44be8178483",
   "metadata": {},
   "source": [
    "**Evaluate on the entire test set**"
   ]
  },
  {
   "cell_type": "code",
   "execution_count": 62,
   "id": "e8decbea-2d09-4805-95c1-f0068bd4d57e",
   "metadata": {},
   "outputs": [
    {
     "name": "stdout",
     "output_type": "stream",
     "text": [
      "\u001b[1m39/39\u001b[0m \u001b[32m━━━━━━━━━━━━━━━━━━━━\u001b[0m\u001b[37m\u001b[0m \u001b[1m11s\u001b[0m 283ms/step - accuracy: 0.9517 - loss: 0.3673\n",
      "Test Accuracy: 0.9516518712043762\n",
      "Test Loss: 0.36728307604789734\n"
     ]
    }
   ],
   "source": [
    "loss, accuracy = classifier.evaluate(test_set)\n",
    "print(\"Test Accuracy:\", accuracy)\n",
    "print(\"Test Loss:\",loss)"
   ]
  },
  {
   "cell_type": "markdown",
   "id": "688a56d9-d5b0-48f8-8c0d-113b2df0c29f",
   "metadata": {},
   "source": [
    "**Generate a classification report**"
   ]
  },
  {
   "cell_type": "code",
   "execution_count": 58,
   "id": "06163f1e-5357-46e0-b740-f2774c8eecc4",
   "metadata": {},
   "outputs": [
    {
     "name": "stdout",
     "output_type": "stream",
     "text": [
      "              precision    recall  f1-score   support\n",
      "\n",
      "        fire       0.98      0.91      0.94       553\n",
      "      nofire       0.93      0.98      0.96       688\n",
      "\n",
      "    accuracy                           0.95      1241\n",
      "   macro avg       0.96      0.95      0.95      1241\n",
      "weighted avg       0.95      0.95      0.95      1241\n",
      "\n"
     ]
    }
   ],
   "source": [
    "from sklearn.metrics import classification_report, confusion_matrix\n",
    "\n",
    "print(classification_report(y_true, y_pred_classes, target_names=list(test_set.class_indices.keys())))\n"
   ]
  },
  {
   "cell_type": "markdown",
   "id": "3ea9bee9-1753-469a-a8f0-273df711f99f",
   "metadata": {},
   "source": [
    "**Get predictions for multiple test images**"
   ]
  },
  {
   "cell_type": "code",
   "execution_count": 57,
   "id": "6589e52a-10e6-42d4-a240-66f125c25185",
   "metadata": {},
   "outputs": [
    {
     "name": "stdout",
     "output_type": "stream",
     "text": [
      "\u001b[1m39/39\u001b[0m \u001b[32m━━━━━━━━━━━━━━━━━━━━\u001b[0m\u001b[37m\u001b[0m \u001b[1m11s\u001b[0m 286ms/step\n",
      "Predicted labels: [0 0 0 0 1 0 0 0 0 0]\n",
      "True labels     : [0 0 0 0 0 0 0 0 0 0]\n"
     ]
    }
   ],
   "source": [
    "import numpy as np\n",
    "\n",
    "y_pred = classifier.predict(test_set)\n",
    "y_pred_classes = (y_pred > 0.5).astype(\"int32\")  # convert to 0/1\n",
    "\n",
    "# True labels\n",
    "y_true = test_set.classes\n",
    "\n",
    "print(\"Predicted labels:\", y_pred_classes[:10].flatten())\n",
    "print(\"True labels     :\", y_true[:10])"
   ]
  }
 ],
 "metadata": {
  "kernelspec": {
   "display_name": "Python 3 (ipykernel)",
   "language": "python",
   "name": "python3"
  },
  "language_info": {
   "codemirror_mode": {
    "name": "ipython",
    "version": 3
   },
   "file_extension": ".py",
   "mimetype": "text/x-python",
   "name": "python",
   "nbconvert_exporter": "python",
   "pygments_lexer": "ipython3",
   "version": "3.13.5"
  }
 },
 "nbformat": 4,
 "nbformat_minor": 5
}
